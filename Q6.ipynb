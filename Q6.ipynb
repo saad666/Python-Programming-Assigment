{
 "cells": [
  {
   "cell_type": "code",
   "execution_count": 3,
   "metadata": {},
   "outputs": [
    {
     "name": "stdout",
     "output_type": "stream",
     "text": [
      "Addition Between Two Numbers\n",
      "First Number = 1\n",
      "Second Number = 2\n",
      "3.0\n"
     ]
    }
   ],
   "source": [
    "print(\"Addition Between Two Numbers\")\n",
    "a=float(input(\"First Number = \"))\n",
    "b=float(input(\"Second Number = \"))\n",
    "print(a+b)"
   ]
  }
 ],
 "metadata": {
  "kernelspec": {
   "display_name": "Python 3",
   "language": "python",
   "name": "python3"
  },
  "language_info": {
   "codemirror_mode": {
    "name": "ipython",
    "version": 3
   },
   "file_extension": ".py",
   "mimetype": "text/x-python",
   "name": "python",
   "nbconvert_exporter": "python",
   "pygments_lexer": "ipython3",
   "version": "3.7.4"
  }
 },
 "nbformat": 4,
 "nbformat_minor": 2
}
