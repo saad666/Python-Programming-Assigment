{
 "cells": [
  {
   "cell_type": "code",
   "execution_count": null,
   "metadata": {},
   "outputs": [],
   "source": [
    "Marks = int(input(\"enter your math marks: \"))\n",
    "marks2 = int(input(\"enter your urdu marks: \"))\n",
    "marks3 = int(input(\"enter your english marks: \"))\n",
    "marks4 = int(input(\"enter your islamiat marks: \"))\n",
    "marks5 = int(input(\"enter your computer marks: \"))\n",
    "avg = (Marks + marks2 + marks3 + marks4 + marks5)/5\n",
    "total_numbers = (Marks + marks2 + marks3 + marks4 + marks5)\n",
    "print(\"TOTAL MARKS OBTAINED FROM 500 : \",total_numbers)\n",
    "if(avg>= 90):\n",
    "    print(\"Your Grade is : A\")\n",
    "elif(avg>= 80 and avg<90):\n",
    "    print(\"Your Grade is : B\")\n",
    "elif(avg>= 70 and avg<80):\n",
    "    print(\"Your Grade is : C\")\n",
    "elif(avg>= 60 and avg<70):\n",
    "    print(\"Your Grade is : D\")\n",
    "else :\n",
    "    print(\"You are Fail\")\n"
   ]
  },
  {
   "cell_type": "code",
   "execution_count": null,
   "metadata": {
    "scrolled": true
   },
   "outputs": [],
   "source": []
  },
  {
   "cell_type": "code",
   "execution_count": null,
   "metadata": {},
   "outputs": [],
   "source": []
  }
 ],
 "metadata": {
  "kernelspec": {
   "display_name": "Python 3",
   "language": "python",
   "name": "python3"
  },
  "language_info": {
   "codemirror_mode": {
    "name": "ipython",
    "version": 3
   },
   "file_extension": ".py",
   "mimetype": "text/x-python",
   "name": "python",
   "nbconvert_exporter": "python",
   "pygments_lexer": "ipython3",
   "version": "3.7.4"
  }
 },
 "nbformat": 4,
 "nbformat_minor": 2
}
