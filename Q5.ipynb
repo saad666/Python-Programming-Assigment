{
 "cells": [
  {
   "cell_type": "code",
   "execution_count": 2,
   "metadata": {},
   "outputs": [
    {
     "name": "stdout",
     "output_type": "stream",
     "text": [
      "Enter First Name: Muhammad\n",
      "Enter Last Name: Saad\n",
      "Saad Muhammad\n"
     ]
    }
   ],
   "source": [
    "FN=input(\"Enter First Name: \")\n",
    "LN=input(\"Enter Last Name: \")\n",
    "\n",
    "print(LN,FN)"
   ]
  }
 ],
 "metadata": {
  "kernelspec": {
   "display_name": "Python 3",
   "language": "python",
   "name": "python3"
  },
  "language_info": {
   "codemirror_mode": {
    "name": "ipython",
    "version": 3
   },
   "file_extension": ".py",
   "mimetype": "text/x-python",
   "name": "python",
   "nbconvert_exporter": "python",
   "pygments_lexer": "ipython3",
   "version": "3.7.4"
  }
 },
 "nbformat": 4,
 "nbformat_minor": 2
}
